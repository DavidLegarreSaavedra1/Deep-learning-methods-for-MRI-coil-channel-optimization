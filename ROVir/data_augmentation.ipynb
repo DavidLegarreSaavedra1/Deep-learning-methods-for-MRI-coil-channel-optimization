{
 "cells": [
  {
   "cell_type": "code",
   "execution_count": 8,
   "metadata": {},
   "outputs": [],
   "source": [
    "import matplotlib as plt\n",
    "import numpy as np\n",
    "import os\n",
    "from methods import *\n",
    "import nibabel as nib\n",
    "import torch\n",
    "import torchvision.transforms as T\n",
    "import cv2 as cv\n",
    "from PIL import Image\n",
    "from pathlib import Path\n",
    "\n",
    "NUM_IMAGES = 40"
   ]
  },
  {
   "cell_type": "code",
   "execution_count": 2,
   "metadata": {},
   "outputs": [],
   "source": [
    "data_path = os.path.join(os.getcwd(), *[\"data\"])"
   ]
  },
  {
   "cell_type": "code",
   "execution_count": 3,
   "metadata": {},
   "outputs": [],
   "source": [
    "img = nib.load(\n",
    "    os.path.join(\n",
    "        data_path,\n",
    "        \"Slice44-AllChannels.nii\"\n",
    "    )\n",
    ")\n",
    "\n",
    "img_np = np.array(img.dataobj)\n",
    "img_np = np.flipud(img_np)"
   ]
  },
  {
   "cell_type": "code",
   "execution_count": 7,
   "metadata": {},
   "outputs": [
    {
     "ename": "NameError",
     "evalue": "name 'img_np' is not defined",
     "output_type": "error",
     "traceback": [
      "\u001b[1;31m---------------------------------------------------------------------------\u001b[0m",
      "\u001b[1;31mNameError\u001b[0m                                 Traceback (most recent call last)",
      "\u001b[1;32md:\\__Archivos_importantes\\TFG\\Code\\Deep-learning-methods-for-MRI-coil-channel-optimization\\ROVir\\data_augmentation.ipynb Cell 4'\u001b[0m in \u001b[0;36m<cell line: 1>\u001b[1;34m()\u001b[0m\n\u001b[1;32m----> <a href='vscode-notebook-cell:/d%3A/__Archivos_importantes/TFG/Code/Deep-learning-methods-for-MRI-coil-channel-optimization/ROVir/data_augmentation.ipynb#ch0000003?line=0'>1</a>\u001b[0m og_img \u001b[39m=\u001b[39m combine_images(img_np)\n\u001b[0;32m      <a href='vscode-notebook-cell:/d%3A/__Archivos_importantes/TFG/Code/Deep-learning-methods-for-MRI-coil-channel-optimization/ROVir/data_augmentation.ipynb#ch0000003?line=1'>2</a>\u001b[0m og_img \u001b[39m=\u001b[39m cv\u001b[39m.\u001b[39mnormalize(og_img, \u001b[39mNone\u001b[39;00m, \u001b[39m0\u001b[39m, \u001b[39m255\u001b[39m, cv\u001b[39m.\u001b[39mNORM_MINMAX, cv\u001b[39m.\u001b[39mCV_8U)\n\u001b[0;32m      <a href='vscode-notebook-cell:/d%3A/__Archivos_importantes/TFG/Code/Deep-learning-methods-for-MRI-coil-channel-optimization/ROVir/data_augmentation.ipynb#ch0000003?line=2'>3</a>\u001b[0m tensorer \u001b[39m=\u001b[39m T\u001b[39m.\u001b[39mToTensor()\n",
      "\u001b[1;31mNameError\u001b[0m: name 'img_np' is not defined"
     ]
    }
   ],
   "source": [
    "og_img = combine_images(img_np)\n",
    "og_img = cv.normalize(og_img, None, 0, 255, cv.NORM_MINMAX, cv.CV_8U)\n",
    "tensorer = T.ToTensor()\n",
    "og_img = tensorer(og_img)\n",
    "#og_img = torch.reshape(og_img, (img_np.shape[0],img_np.shape[1],1))\n",
    "transformer = T.ToPILImage()\n",
    "conv_img = transformer(og_img)"
   ]
  },
  {
   "cell_type": "code",
   "execution_count": 3,
   "metadata": {},
   "outputs": [],
   "source": [
    "transforms = torch.nn.Sequential(\n",
    "    T.GaussianBlur(kernel_size=(5, 9), sigma=(0.1, 5)),\n",
    "    T.RandomRotation(degrees=(0, 180))\n",
    ")"
   ]
  },
  {
   "cell_type": "code",
   "execution_count": 3,
   "metadata": {},
   "outputs": [],
   "source": [
    "augmenter = T.AutoAugment(T.AutoAugmentPolicy.SVHN)"
   ]
  },
  {
   "cell_type": "code",
   "execution_count": 7,
   "metadata": {},
   "outputs": [],
   "source": [
    "imgs = [\n",
    "    augmenter(conv_img) for _ in range(NUM_IMAGES)\n",
    "]"
   ]
  },
  {
   "cell_type": "code",
   "execution_count": 8,
   "metadata": {},
   "outputs": [
    {
     "name": "stdout",
     "output_type": "stream",
     "text": [
      "<class 'PIL.Image.Image'>\n"
     ]
    }
   ],
   "source": [
    "print(type(imgs[0]))"
   ]
  },
  {
   "cell_type": "code",
   "execution_count": 5,
   "metadata": {},
   "outputs": [
    {
     "name": "stdout",
     "output_type": "stream",
     "text": [
      "d:/__Archivos_importantes/TFG/Code/Deep-learning-methods-for-MRI-coil-channel-optimization/ROVir/results/augmented_images\n"
     ]
    },
    {
     "ename": "NameError",
     "evalue": "name 'imgs' is not defined",
     "output_type": "error",
     "traceback": [
      "\u001b[1;31m---------------------------------------------------------------------------\u001b[0m",
      "\u001b[1;31mNameError\u001b[0m                                 Traceback (most recent call last)",
      "\u001b[1;32md:\\__Archivos_importantes\\TFG\\Code\\Deep-learning-methods-for-MRI-coil-channel-optimization\\ROVir\\data_augmentation.ipynb Cell 9'\u001b[0m in \u001b[0;36m<cell line: 5>\u001b[1;34m()\u001b[0m\n\u001b[0;32m      <a href='vscode-notebook-cell:/d%3A/__Archivos_importantes/TFG/Code/Deep-learning-methods-for-MRI-coil-channel-optimization/ROVir/data_augmentation.ipynb#ch0000008?line=2'>3</a>\u001b[0m \u001b[39mprint\u001b[39m(path\u001b[39m.\u001b[39mas_posix())\n\u001b[0;32m      <a href='vscode-notebook-cell:/d%3A/__Archivos_importantes/TFG/Code/Deep-learning-methods-for-MRI-coil-channel-optimization/ROVir/data_augmentation.ipynb#ch0000008?line=3'>4</a>\u001b[0m i \u001b[39m=\u001b[39m \u001b[39m0\u001b[39m\n\u001b[1;32m----> <a href='vscode-notebook-cell:/d%3A/__Archivos_importantes/TFG/Code/Deep-learning-methods-for-MRI-coil-channel-optimization/ROVir/data_augmentation.ipynb#ch0000008?line=4'>5</a>\u001b[0m \u001b[39mfor\u001b[39;00m img \u001b[39min\u001b[39;00m imgs:\n\u001b[0;32m      <a href='vscode-notebook-cell:/d%3A/__Archivos_importantes/TFG/Code/Deep-learning-methods-for-MRI-coil-channel-optimization/ROVir/data_augmentation.ipynb#ch0000008?line=5'>6</a>\u001b[0m     f_name \u001b[39m=\u001b[39m \u001b[39m'\u001b[39m\u001b[39mimg\u001b[39m\u001b[39m'\u001b[39m\u001b[39m+\u001b[39m\u001b[39mstr\u001b[39m(i)\u001b[39m+\u001b[39m\u001b[39m'\u001b[39m\u001b[39m.png\u001b[39m\u001b[39m'\u001b[39m\n\u001b[0;32m      <a href='vscode-notebook-cell:/d%3A/__Archivos_importantes/TFG/Code/Deep-learning-methods-for-MRI-coil-channel-optimization/ROVir/data_augmentation.ipynb#ch0000008?line=6'>7</a>\u001b[0m     img_path \u001b[39m=\u001b[39m path \u001b[39m/\u001b[39m f_name\n",
      "\u001b[1;31mNameError\u001b[0m: name 'imgs' is not defined"
     ]
    }
   ],
   "source": [
    "filename = '/img_'\n",
    "path = Path.cwd() / 'results' / 'augmented_images'\n",
    "print(path.as_posix())\n",
    "i = 0\n",
    "for img in imgs:\n",
    "    f_name = 'img'+str(i)+'.png'\n",
    "    img_path = path / f_name\n",
    "    img.save(img_path)\n",
    "    i+=1\n",
    "    "
   ]
  },
  {
   "cell_type": "code",
   "execution_count": 15,
   "metadata": {},
   "outputs": [],
   "source": []
  },
  {
   "cell_type": "code",
   "execution_count": 11,
   "metadata": {},
   "outputs": [],
   "source": [
    "img_path = Path.cwd() / 'data' / 'dicom_images_saved'\n",
    "imgs = []\n",
    "for img in img_path.iterdir():\n",
    "    og_img = cv.imread(img.as_posix(),0)\n",
    "    tensorer = T.ToTensor()\n",
    "    og_img = cv.normalize(og_img, None, 0, 255, cv.NORM_MINMAX, cv.CV_8U)\n",
    "    og_img = tensorer(og_img)\n",
    "    #og_img = torch.reshape(og_img, (img_np.shape[0],img_np.shape[1],1))\n",
    "    transformer = T.ToPILImage()\n",
    "    conv_img = transformer(og_img)\n",
    "    imgs.append(\n",
    "        [augmenter(conv_img) for _ in range(NUM_IMAGES)]\n",
    "    )\n"
   ]
  },
  {
   "cell_type": "code",
   "execution_count": 12,
   "metadata": {},
   "outputs": [],
   "source": [
    "path = Path.cwd() / 'results' / 'augmented_images' / 'dicom'\n",
    "\n",
    "i = 0\n",
    "batch = 'B'\n",
    "for list_img in imgs:\n",
    "    for img in list_img:\n",
    "        i += 1\n",
    "        f_name = batch+'img'+str(i)+'.png'\n",
    "        img_path = path / f_name\n",
    "        img.save(img_path)\n",
    "\n",
    "    "
   ]
  },
  {
   "cell_type": "code",
   "execution_count": null,
   "metadata": {},
   "outputs": [],
   "source": []
  }
 ],
 "metadata": {
  "interpreter": {
   "hash": "72f235a78b5cf937fd09c1593b6a0e4473f824a03930b62c2c7d9a177b9de8f3"
  },
  "kernelspec": {
   "display_name": "Python 3.9.12 64-bit",
   "language": "python",
   "name": "python3"
  },
  "language_info": {
   "codemirror_mode": {
    "name": "ipython",
    "version": 3
   },
   "file_extension": ".py",
   "mimetype": "text/x-python",
   "name": "python",
   "nbconvert_exporter": "python",
   "pygments_lexer": "ipython3",
   "version": "3.9.12"
  },
  "orig_nbformat": 4
 },
 "nbformat": 4,
 "nbformat_minor": 2
}
