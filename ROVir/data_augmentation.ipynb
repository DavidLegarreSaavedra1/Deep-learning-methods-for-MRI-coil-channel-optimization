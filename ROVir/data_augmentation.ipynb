{
 "cells": [
  {
   "cell_type": "code",
   "execution_count": 1,
   "metadata": {},
   "outputs": [
    {
     "name": "stderr",
     "output_type": "stream",
     "text": [
      "c:\\Users\\david\\AppData\\Local\\Programs\\Python\\Python310\\lib\\site-packages\\tqdm\\auto.py:22: TqdmWarning: IProgress not found. Please update jupyter and ipywidgets. See https://ipywidgets.readthedocs.io/en/stable/user_install.html\n",
      "  from .autonotebook import tqdm as notebook_tqdm\n"
     ]
    }
   ],
   "source": [
    "import matplotlib as plt\n",
    "import numpy as np\n",
    "import os\n",
    "from methods import *\n",
    "import nibabel as nib\n",
    "import torch\n",
    "import torchvision.transforms as T\n",
    "import cv2 as cv\n",
    "from PIL import Image\n",
    "from pathlib import Path\n",
    "\n",
    "NUM_IMAGES = 30"
   ]
  },
  {
   "cell_type": "code",
   "execution_count": 2,
   "metadata": {},
   "outputs": [],
   "source": [
    "data_path = os.path.join(os.getcwd(), *[\"data\"])"
   ]
  },
  {
   "cell_type": "code",
   "execution_count": 3,
   "metadata": {},
   "outputs": [],
   "source": [
    "img = nib.load(\n",
    "    os.path.join(\n",
    "        data_path,\n",
    "        \"Slice44-AllChannels.nii\"\n",
    "    )\n",
    ")\n",
    "\n",
    "img_np = np.array(img.dataobj)\n",
    "img_np = np.flipud(img_np)"
   ]
  },
  {
   "cell_type": "code",
   "execution_count": 4,
   "metadata": {},
   "outputs": [],
   "source": [
    "og_img = combine_images(img_np)\n",
    "og_img = cv.normalize(og_img, None, 0, 255, cv.NORM_MINMAX, cv.CV_8U)\n",
    "tensorer = T.ToTensor()\n",
    "og_img = tensorer(og_img)\n",
    "#og_img = torch.reshape(og_img, (img_np.shape[0],img_np.shape[1],1))\n",
    "transformer = T.ToPILImage()\n",
    "conv_img = transformer(og_img)"
   ]
  },
  {
   "cell_type": "code",
   "execution_count": 5,
   "metadata": {},
   "outputs": [],
   "source": [
    "transforms = torch.nn.Sequential(\n",
    "    T.GaussianBlur(kernel_size=(5, 9), sigma=(0.1, 5)),\n",
    "    T.RandomRotation(degrees=(0, 180))\n",
    ")"
   ]
  },
  {
   "cell_type": "code",
   "execution_count": 6,
   "metadata": {},
   "outputs": [],
   "source": [
    "augmenter = T.AutoAugment(T.AutoAugmentPolicy.SVHN)"
   ]
  },
  {
   "cell_type": "code",
   "execution_count": 7,
   "metadata": {},
   "outputs": [],
   "source": [
    "imgs = [\n",
    "    augmenter(conv_img) for _ in range(NUM_IMAGES)\n",
    "]"
   ]
  },
  {
   "cell_type": "code",
   "execution_count": 8,
   "metadata": {},
   "outputs": [
    {
     "name": "stdout",
     "output_type": "stream",
     "text": [
      "<class 'PIL.Image.Image'>\n"
     ]
    }
   ],
   "source": [
    "print(type(imgs[0]))"
   ]
  },
  {
   "cell_type": "code",
   "execution_count": 9,
   "metadata": {},
   "outputs": [
    {
     "name": "stdout",
     "output_type": "stream",
     "text": [
      "d:/__Archivos_importantes/TFG/Code/Deep-learning-methods-for-MRI-coil-channel-optimization/ROVir/results/augmented_images\n"
     ]
    }
   ],
   "source": [
    "filename = '/img_'\n",
    "path = Path.cwd() / 'results' / 'augmented_images'\n",
    "print(path.as_posix())\n",
    "i = 0\n",
    "for img in imgs:\n",
    "    f_name = 'img'+str(i)+'.png'\n",
    "    img_path = path / f_name\n",
    "    img.save(img_path)\n",
    "    i+=1\n",
    "    "
   ]
  },
  {
   "cell_type": "code",
   "execution_count": 10,
   "metadata": {},
   "outputs": [],
   "source": [
    "img_path = Path.cwd() / 'data' / 'dicom_images_saved'"
   ]
  },
  {
   "cell_type": "code",
   "execution_count": 18,
   "metadata": {},
   "outputs": [],
   "source": [
    "imgs = []\n",
    "for img in img_path.iterdir():\n",
    "    og_img = np.array(Image.open(img))\n",
    "    tensorer = T.ToTensor()\n",
    "    og_img = cv.normalize(og_img, None, 0, 255, cv.NORM_MINMAX, cv.CV_8U)\n",
    "    og_img = tensorer(og_img)\n",
    "    #og_img = torch.reshape(og_img, (img_np.shape[0],img_np.shape[1],1))\n",
    "    transformer = T.ToPILImage()\n",
    "    conv_img = transformer(og_img)\n",
    "    imgs.append(\n",
    "        [augmenter(conv_img) for _ in range(NUM_IMAGES)]\n",
    "    )\n"
   ]
  },
  {
   "cell_type": "code",
   "execution_count": 20,
   "metadata": {},
   "outputs": [],
   "source": [
    "for list_img in imgs:\n",
    "    for img in list_img:\n",
    "        f_name = 'img'+str(i)+'.png'\n",
    "        img_path = path / f_name\n",
    "        img.save(img_path)\n",
    "        i+=1\n",
    "    "
   ]
  },
  {
   "cell_type": "code",
   "execution_count": null,
   "metadata": {},
   "outputs": [],
   "source": []
  }
 ],
 "metadata": {
  "interpreter": {
   "hash": "b629c3126b5df0b3c19ac5f524890cb3a3a2e86c1a2f2c4b1c29287aa73e65d0"
  },
  "kernelspec": {
   "display_name": "Python 3.10.4 64-bit",
   "language": "python",
   "name": "python3"
  },
  "language_info": {
   "codemirror_mode": {
    "name": "ipython",
    "version": 3
   },
   "file_extension": ".py",
   "mimetype": "text/x-python",
   "name": "python",
   "nbconvert_exporter": "python",
   "pygments_lexer": "ipython3",
   "version": "3.10.4"
  },
  "orig_nbformat": 4
 },
 "nbformat": 4,
 "nbformat_minor": 2
}
