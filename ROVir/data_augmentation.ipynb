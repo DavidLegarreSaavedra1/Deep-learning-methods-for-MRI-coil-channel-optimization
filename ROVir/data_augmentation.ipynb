{
 "cells": [
  {
   "cell_type": "code",
   "execution_count": 13,
   "metadata": {},
   "outputs": [],
   "source": [
    "from methods.image_manipulation import *\n",
    "import matplotlib as plt\n",
    "import numpy as np\n",
    "import os\n",
    "from methods import *\n",
    "import nibabel as nib\n",
    "import torch\n",
    "import torchvision.transforms as T\n",
    "import cv2 as cv\n",
    "from PIL import Image\n",
    "from pathlib import Path\n",
    "\n",
    "NUM_IMAGES = 20"
   ]
  },
  {
   "cell_type": "code",
   "execution_count": 14,
   "metadata": {},
   "outputs": [],
   "source": [
    "data_path = os.path.join(os.getcwd(), *[\"data\"])"
   ]
  },
  {
   "cell_type": "code",
   "execution_count": 15,
   "metadata": {},
   "outputs": [],
   "source": [
    "transforms = torch.nn.Sequential(\n",
    "    T.RandomAffine(degrees=(-10, 10), translate=(0.2, 0.1), scale=(0.9, 1.1)),\n",
    ")"
   ]
  },
  {
   "cell_type": "code",
   "execution_count": 17,
   "metadata": {},
   "outputs": [
    {
     "ename": "NameError",
     "evalue": "name 'auto_contrast' is not defined",
     "output_type": "error",
     "traceback": [
      "\u001b[1;31m---------------------------------------------------------------------------\u001b[0m",
      "\u001b[1;31mNameError\u001b[0m                                 Traceback (most recent call last)",
      "\u001b[1;32md:\\__Archivos_importantes\\TFG\\Code\\Deep-learning-methods-for-MRI-coil-channel-optimization\\ROVir\\data_augmentation.ipynb Cell 4'\u001b[0m in \u001b[0;36m<cell line: 3>\u001b[1;34m()\u001b[0m\n\u001b[0;32m      <a href='vscode-notebook-cell:/d%3A/__Archivos_importantes/TFG/Code/Deep-learning-methods-for-MRI-coil-channel-optimization/ROVir/data_augmentation.ipynb#ch0000003?line=4'>5</a>\u001b[0m tensorer \u001b[39m=\u001b[39m T\u001b[39m.\u001b[39mToTensor()\n\u001b[0;32m      <a href='vscode-notebook-cell:/d%3A/__Archivos_importantes/TFG/Code/Deep-learning-methods-for-MRI-coil-channel-optimization/ROVir/data_augmentation.ipynb#ch0000003?line=5'>6</a>\u001b[0m og_img \u001b[39m=\u001b[39m cv\u001b[39m.\u001b[39mnormalize(og_img, \u001b[39mNone\u001b[39;00m, \u001b[39m0\u001b[39m, \u001b[39m255\u001b[39m, cv\u001b[39m.\u001b[39mNORM_MINMAX, cv\u001b[39m.\u001b[39mCV_8U)\n\u001b[1;32m----> <a href='vscode-notebook-cell:/d%3A/__Archivos_importantes/TFG/Code/Deep-learning-methods-for-MRI-coil-channel-optimization/ROVir/data_augmentation.ipynb#ch0000003?line=6'>7</a>\u001b[0m og_img \u001b[39m=\u001b[39m auto_contrast(og_img, \u001b[39m0.99\u001b[39m)\n\u001b[0;32m      <a href='vscode-notebook-cell:/d%3A/__Archivos_importantes/TFG/Code/Deep-learning-methods-for-MRI-coil-channel-optimization/ROVir/data_augmentation.ipynb#ch0000003?line=7'>8</a>\u001b[0m og_img \u001b[39m=\u001b[39m tensorer(og_img)\n\u001b[0;32m      <a href='vscode-notebook-cell:/d%3A/__Archivos_importantes/TFG/Code/Deep-learning-methods-for-MRI-coil-channel-optimization/ROVir/data_augmentation.ipynb#ch0000003?line=8'>9</a>\u001b[0m \u001b[39m#og_img = torch.reshape(og_img, (img_np.shape[0],img_np.shape[1],1))\u001b[39;00m\n",
      "\u001b[1;31mNameError\u001b[0m: name 'auto_contrast' is not defined"
     ]
    }
   ],
   "source": [
    "img_path = Path.cwd() / 'data' / 'dicom_images_saved'\n",
    "imgs = []\n",
    "for img in img_path.iterdir():\n",
    "    og_img = cv.imread(img.as_posix(),0)\n",
    "    tensorer = T.ToTensor()\n",
    "    og_img = cv.normalize(og_img, None, 0, 255, cv.NORM_MINMAX, cv.CV_8U)\n",
    "    og_img = auto_contrast(og_img, 0.99)\n",
    "    og_img = tensorer(og_img)\n",
    "    #og_img = torch.reshape(og_img, (img_np.shape[0],img_np.shape[1],1))\n",
    "    transformer = T.ToPILImage()\n",
    "    conv_img = transformer(og_img)\n",
    "    imgs.append(\n",
    "        [transforms(conv_img) for _ in range(NUM_IMAGES)]\n",
    "    )\n"
   ]
  },
  {
   "cell_type": "code",
   "execution_count": null,
   "metadata": {},
   "outputs": [
    {
     "name": "stdout",
     "output_type": "stream",
     "text": [
      "1\n"
     ]
    }
   ],
   "source": [
    "print(len(imgs))"
   ]
  },
  {
   "cell_type": "code",
   "execution_count": null,
   "metadata": {},
   "outputs": [],
   "source": [
    "path = Path.cwd() / 'results' / 'augmented_images' / 'dicom'\n",
    "\n",
    "i = 0\n",
    "batch = 'B'\n",
    "for list_img in imgs:\n",
    "    for img in list_img:\n",
    "        i += 1\n",
    "        f_name = batch+'img'+str(i)+'.png'\n",
    "        img_path = path / f_name\n",
    "        img.save(img_path)\n",
    "\n",
    "    "
   ]
  },
  {
   "cell_type": "code",
   "execution_count": null,
   "metadata": {},
   "outputs": [],
   "source": []
  }
 ],
 "metadata": {
  "interpreter": {
   "hash": "72f235a78b5cf937fd09c1593b6a0e4473f824a03930b62c2c7d9a177b9de8f3"
  },
  "kernelspec": {
   "display_name": "Python 3.9.12 64-bit",
   "language": "python",
   "name": "python3"
  },
  "language_info": {
   "codemirror_mode": {
    "name": "ipython",
    "version": 3
   },
   "file_extension": ".py",
   "mimetype": "text/x-python",
   "name": "python",
   "nbconvert_exporter": "python",
   "pygments_lexer": "ipython3",
   "version": "3.9.12"
  },
  "orig_nbformat": 4
 },
 "nbformat": 4,
 "nbformat_minor": 2
}
