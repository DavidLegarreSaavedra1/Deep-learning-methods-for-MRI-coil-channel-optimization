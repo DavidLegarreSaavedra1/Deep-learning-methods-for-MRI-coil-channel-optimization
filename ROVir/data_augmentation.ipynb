{
 "cells": [
  {
   "cell_type": "code",
   "execution_count": null,
   "metadata": {},
   "outputs": [],
   "source": [
    "import matplotlib as plt\n",
    "import numpy as np\n",
    "import os\n",
    "from methods import *\n",
    "import nibabel as nib\n",
    "import torch\n",
    "import torchvision.transforms as T\n",
    "import cv2 as cv\n",
    "from PIL import Image\n",
    "from pathlib import Path\n",
    "\n",
    "NUM_IMAGES = 200"
   ]
  },
  {
   "cell_type": "code",
   "execution_count": null,
   "metadata": {},
   "outputs": [],
   "source": [
    "data_path = os.path.join(os.getcwd(), *[\"data\"])"
   ]
  },
  {
   "cell_type": "code",
   "execution_count": null,
   "metadata": {},
   "outputs": [],
   "source": [
    "img = nib.load(\n",
    "    os.path.join(\n",
    "        data_path,\n",
    "        \"Slice44-AllChannels.nii\"\n",
    "    )\n",
    ")\n",
    "\n",
    "img_np = np.array(img.dataobj)"
   ]
  },
  {
   "cell_type": "code",
   "execution_count": null,
   "metadata": {},
   "outputs": [],
   "source": [
    "og_img = combine_images(img_np)\n",
    "og_img = cv.normalize(og_img, None, 0, 255, cv.NORM_MINMAX, cv.CV_8U)\n",
    "tensorer = T.ToTensor()\n",
    "og_img = tensorer(og_img)\n",
    "#og_img = torch.reshape(og_img, (img_np.shape[0],img_np.shape[1],1))\n",
    "transformer = T.ToPILImage()\n",
    "conv_img = transformer(og_img)"
   ]
  },
  {
   "cell_type": "code",
   "execution_count": null,
   "metadata": {},
   "outputs": [],
   "source": [
    "augmenter = T.AutoAugment(T.AutoAugmentPolicy.IMAGENET, fill=0)\n",
    "\n",
    "imgs = [\n",
    "    augmenter(conv_img) for _ in range(NUM_IMAGES)\n",
    "]\n"
   ]
  },
  {
   "cell_type": "code",
   "execution_count": null,
   "metadata": {},
   "outputs": [],
   "source": [
    "filename = '/img_'\n",
    "path = Path.cwd() / 'results' / 'augmented_images'\n",
    "print(path.as_posix())\n",
    "i = 0\n",
    "for img in imgs:\n",
    "    img.save(path.as_posix()+filename+str(i)+'.jpg')\n",
    "    i+=1"
   ]
  }
 ],
 "metadata": {
  "interpreter": {
   "hash": "1096d96948c228fd0d200fe0224c5b4749dc8f9f8502a0a25bea65f39e17c54a"
  },
  "kernelspec": {
   "display_name": "Python 3.10.4 64-bit",
   "language": "python",
   "name": "python3"
  },
  "language_info": {
   "codemirror_mode": {
    "name": "ipython",
    "version": 3
   },
   "file_extension": ".py",
   "mimetype": "text/x-python",
   "name": "python",
   "nbconvert_exporter": "python",
   "pygments_lexer": "ipython3",
   "version": "3.10.4"
  },
  "orig_nbformat": 4
 },
 "nbformat": 4,
 "nbformat_minor": 2
}
