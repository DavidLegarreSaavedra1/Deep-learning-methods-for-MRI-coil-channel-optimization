{
 "cells": [
  {
   "cell_type": "code",
   "execution_count": 1,
   "metadata": {},
   "outputs": [
    {
     "name": "stderr",
     "output_type": "stream",
     "text": [
      "c:\\Users\\david\\AppData\\Local\\Programs\\Python\\Python310\\lib\\site-packages\\tqdm\\auto.py:22: TqdmWarning: IProgress not found. Please update jupyter and ipywidgets. See https://ipywidgets.readthedocs.io/en/stable/user_install.html\n",
      "  from .autonotebook import tqdm as notebook_tqdm\n"
     ]
    }
   ],
   "source": [
    "import matplotlib as plt\n",
    "import numpy as np\n",
    "import os\n",
    "from methods import *\n",
    "import nibabel as nib\n",
    "import torch\n",
    "import torchvision.transforms as T\n",
    "import cv2 as cv\n",
    "from PIL import Image\n",
    "from pathlib import Path\n",
    "\n",
    "NUM_IMAGES = 200"
   ]
  },
  {
   "cell_type": "code",
   "execution_count": 2,
   "metadata": {},
   "outputs": [],
   "source": [
    "data_path = os.path.join(os.getcwd(), *[\"data\"])"
   ]
  },
  {
   "cell_type": "code",
   "execution_count": 3,
   "metadata": {},
   "outputs": [],
   "source": [
    "img = nib.load(\n",
    "    os.path.join(\n",
    "        data_path,\n",
    "        \"Slice44-AllChannels.nii\"\n",
    "    )\n",
    ")\n",
    "\n",
    "img_np = np.array(img.dataobj)\n",
    "img_np = np.flipud(img_np)"
   ]
  },
  {
   "cell_type": "code",
   "execution_count": 4,
   "metadata": {},
   "outputs": [],
   "source": [
    "og_img = combine_images(img_np)\n",
    "og_img = cv.normalize(og_img, None, 0, 255, cv.NORM_MINMAX, cv.CV_8U)\n",
    "tensorer = T.ToTensor()\n",
    "og_img = tensorer(og_img)\n",
    "#og_img = torch.reshape(og_img, (img_np.shape[0],img_np.shape[1],1))\n",
    "transformer = T.ToPILImage()\n",
    "conv_img = transformer(og_img)"
   ]
  },
  {
   "cell_type": "code",
   "execution_count": 5,
   "metadata": {},
   "outputs": [],
   "source": [
    "augmenter = T.AutoAugment(T.AutoAugmentPolicy.IMAGENET, fill=0)\n",
    "\n",
    "imgs = [\n",
    "    augmenter(conv_img) for _ in range(NUM_IMAGES)\n",
    "]\n"
   ]
  },
  {
   "cell_type": "code",
   "execution_count": 6,
   "metadata": {},
   "outputs": [
    {
     "name": "stdout",
     "output_type": "stream",
     "text": [
      "d:/__Archivos_importantes/TFG/Code/Deep-learning-methods-for-MRI-coil-channel-optimization/ROVir/results/augmented_images\n"
     ]
    },
    {
     "ename": "FileNotFoundError",
     "evalue": "[Errno 2] No such file or directory: 'd:/__Archivos_importantes/TFG/Code/Deep-learning-methods-for-MRI-coil-channel-optimization/ROVir/results/augmented_images/img_0.png'",
     "output_type": "error",
     "traceback": [
      "\u001b[1;31m---------------------------------------------------------------------------\u001b[0m",
      "\u001b[1;31mFileNotFoundError\u001b[0m                         Traceback (most recent call last)",
      "\u001b[1;32md:\\__Archivos_importantes\\TFG\\Code\\Deep-learning-methods-for-MRI-coil-channel-optimization\\ROVir\\data_augmentation.ipynb Cell 6'\u001b[0m in \u001b[0;36m<cell line: 5>\u001b[1;34m()\u001b[0m\n\u001b[0;32m      <a href='vscode-notebook-cell:/d%3A/__Archivos_importantes/TFG/Code/Deep-learning-methods-for-MRI-coil-channel-optimization/ROVir/data_augmentation.ipynb#ch0000005?line=3'>4</a>\u001b[0m i \u001b[39m=\u001b[39m \u001b[39m0\u001b[39m\n\u001b[0;32m      <a href='vscode-notebook-cell:/d%3A/__Archivos_importantes/TFG/Code/Deep-learning-methods-for-MRI-coil-channel-optimization/ROVir/data_augmentation.ipynb#ch0000005?line=4'>5</a>\u001b[0m \u001b[39mfor\u001b[39;00m img \u001b[39min\u001b[39;00m imgs:\n\u001b[1;32m----> <a href='vscode-notebook-cell:/d%3A/__Archivos_importantes/TFG/Code/Deep-learning-methods-for-MRI-coil-channel-optimization/ROVir/data_augmentation.ipynb#ch0000005?line=5'>6</a>\u001b[0m     img\u001b[39m.\u001b[39;49msave(path\u001b[39m.\u001b[39;49mas_posix()\u001b[39m+\u001b[39;49mfilename\u001b[39m+\u001b[39;49m\u001b[39mstr\u001b[39;49m(i)\u001b[39m+\u001b[39;49m\u001b[39m'\u001b[39;49m\u001b[39m.png\u001b[39;49m\u001b[39m'\u001b[39;49m)\n\u001b[0;32m      <a href='vscode-notebook-cell:/d%3A/__Archivos_importantes/TFG/Code/Deep-learning-methods-for-MRI-coil-channel-optimization/ROVir/data_augmentation.ipynb#ch0000005?line=6'>7</a>\u001b[0m     i\u001b[39m+\u001b[39m\u001b[39m=\u001b[39m\u001b[39m1\u001b[39m\n",
      "File \u001b[1;32m~\\AppData\\Roaming\\Python\\Python310\\site-packages\\PIL\\Image.py:2297\u001b[0m, in \u001b[0;36mImage.save\u001b[1;34m(self, fp, format, **params)\u001b[0m\n\u001b[0;32m   <a href='file:///c%3A/Users/david/AppData/Roaming/Python/Python310/site-packages/PIL/Image.py?line=2294'>2295</a>\u001b[0m         fp \u001b[39m=\u001b[39m builtins\u001b[39m.\u001b[39mopen(filename, \u001b[39m\"\u001b[39m\u001b[39mr+b\u001b[39m\u001b[39m\"\u001b[39m)\n\u001b[0;32m   <a href='file:///c%3A/Users/david/AppData/Roaming/Python/Python310/site-packages/PIL/Image.py?line=2295'>2296</a>\u001b[0m     \u001b[39melse\u001b[39;00m:\n\u001b[1;32m-> <a href='file:///c%3A/Users/david/AppData/Roaming/Python/Python310/site-packages/PIL/Image.py?line=2296'>2297</a>\u001b[0m         fp \u001b[39m=\u001b[39m builtins\u001b[39m.\u001b[39;49mopen(filename, \u001b[39m\"\u001b[39;49m\u001b[39mw+b\u001b[39;49m\u001b[39m\"\u001b[39;49m)\n\u001b[0;32m   <a href='file:///c%3A/Users/david/AppData/Roaming/Python/Python310/site-packages/PIL/Image.py?line=2298'>2299</a>\u001b[0m \u001b[39mtry\u001b[39;00m:\n\u001b[0;32m   <a href='file:///c%3A/Users/david/AppData/Roaming/Python/Python310/site-packages/PIL/Image.py?line=2299'>2300</a>\u001b[0m     save_handler(\u001b[39mself\u001b[39m, fp, filename)\n",
      "\u001b[1;31mFileNotFoundError\u001b[0m: [Errno 2] No such file or directory: 'd:/__Archivos_importantes/TFG/Code/Deep-learning-methods-for-MRI-coil-channel-optimization/ROVir/results/augmented_images/img_0.png'"
     ]
    }
   ],
   "source": [
    "filename = '/img_'\n",
    "path = Path.cwd() / 'results' / 'augmented_images'\n",
    "print(path.as_posix())\n",
    "i = 0\n",
    "for img in imgs:\n",
    "    img.save(path.as_posix()+filename+str(i)+'.png')\n",
    "    i+=1\n",
    "    "
   ]
  }
 ],
 "metadata": {
  "interpreter": {
   "hash": "b629c3126b5df0b3c19ac5f524890cb3a3a2e86c1a2f2c4b1c29287aa73e65d0"
  },
  "kernelspec": {
   "display_name": "Python 3.10.4 64-bit",
   "language": "python",
   "name": "python3"
  },
  "language_info": {
   "codemirror_mode": {
    "name": "ipython",
    "version": 3
   },
   "file_extension": ".py",
   "mimetype": "text/x-python",
   "name": "python",
   "nbconvert_exporter": "python",
   "pygments_lexer": "ipython3",
   "version": "3.10.4"
  },
  "orig_nbformat": 4
 },
 "nbformat": 4,
 "nbformat_minor": 2
}
