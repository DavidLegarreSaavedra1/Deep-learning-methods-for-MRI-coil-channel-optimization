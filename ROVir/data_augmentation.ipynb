{
 "cells": [
  {
   "cell_type": "code",
   "execution_count": 25,
   "metadata": {},
   "outputs": [],
   "source": [
    "from methods.image_manipulation import *\n",
    "import matplotlib as plt\n",
    "import numpy as np\n",
    "import os\n",
    "from methods import *\n",
    "import nibabel as nib\n",
    "import torch\n",
    "import torchvision.transforms as T\n",
    "import cv2 as cv\n",
    "from PIL import Image\n",
    "from pathlib import Path\n",
    "\n",
    "NUM_IMAGES = 40"
   ]
  },
  {
   "cell_type": "code",
   "execution_count": 26,
   "metadata": {},
   "outputs": [],
   "source": [
    "data_path = os.path.join(os.getcwd(), *[\"data\"])"
   ]
  },
  {
   "cell_type": "code",
   "execution_count": 27,
   "metadata": {},
   "outputs": [],
   "source": [
    "transforms = torch.nn.Sequential(\n",
    "    T.RandomAffine(degrees=(-10, 10), translate=(0.2, 0.1), scale=(0.9, 1.1)),\n",
    ")"
   ]
  },
  {
   "cell_type": "code",
   "execution_count": 28,
   "metadata": {},
   "outputs": [],
   "source": [
    "img_path = Path.cwd() / 'data' / 'dicom_images_saved'\n",
    "imgs = []\n",
    "for img in img_path.iterdir():\n",
    "    og_img = cv.imread(img.as_posix(),0)\n",
    "    tensorer = T.ToTensor()\n",
    "    og_img = cv.normalize(og_img, None, 0, 255, cv.NORM_MINMAX, cv.CV_8U)\n",
    "    og_img = tensorer(og_img)\n",
    "    #og_img = torch.reshape(og_img, (img_np.shape[0],img_np.shape[1],1))\n",
    "    transformer = T.ToPILImage()\n",
    "    conv_img = transformer(og_img)\n",
    "    imgs.append(\n",
    "        [transforms(conv_img) for _ in range(NUM_IMAGES)]\n",
    "    )\n"
   ]
  },
  {
   "cell_type": "code",
   "execution_count": 29,
   "metadata": {},
   "outputs": [
    {
     "name": "stdout",
     "output_type": "stream",
     "text": [
      "8\n"
     ]
    }
   ],
   "source": [
    "print(len(imgs))"
   ]
  },
  {
   "cell_type": "code",
   "execution_count": 30,
   "metadata": {},
   "outputs": [],
   "source": [
    "path = Path.cwd() / 'results' / 'augmented_images' / 'dicom'\n",
    "\n",
    "i = 0\n",
    "batch = 'B'\n",
    "for list_img in imgs:\n",
    "    for img in list_img:\n",
    "        i += 1\n",
    "        f_name = batch+'img'+str(i)+'.png'\n",
    "        img_path = path / f_name\n",
    "        img.save(img_path)\n",
    "\n",
    "    "
   ]
  },
  {
   "cell_type": "code",
   "execution_count": null,
   "metadata": {},
   "outputs": [],
   "source": []
  }
 ],
 "metadata": {
  "interpreter": {
   "hash": "72f235a78b5cf937fd09c1593b6a0e4473f824a03930b62c2c7d9a177b9de8f3"
  },
  "kernelspec": {
   "display_name": "Python 3.9.12 64-bit",
   "language": "python",
   "name": "python3"
  },
  "language_info": {
   "codemirror_mode": {
    "name": "ipython",
    "version": 3
   },
   "file_extension": ".py",
   "mimetype": "text/x-python",
   "name": "python",
   "nbconvert_exporter": "python",
   "pygments_lexer": "ipython3",
   "version": "3.9.12"
  },
  "orig_nbformat": 4
 },
 "nbformat": 4,
 "nbformat_minor": 2
}
