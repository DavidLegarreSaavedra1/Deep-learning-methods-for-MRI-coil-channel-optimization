{
 "cells": [
  {
   "cell_type": "code",
   "execution_count": 1,
   "metadata": {},
   "outputs": [],
   "source": [
    "from methods import *\n",
    "from torchsummary import summary"
   ]
  },
  {
   "cell_type": "code",
   "execution_count": 7,
   "metadata": {},
   "outputs": [
    {
     "name": "stdout",
     "output_type": "stream",
     "text": [
      "----------------------------------------------------------------\n",
      "        Layer (type)               Output Shape         Param #\n",
      "================================================================\n",
      "            Resize-1          [-1, 1, 128, 128]               0\n",
      "            Conv2d-2         [-1, 10, 126, 126]             100\n",
      "              ReLU-3         [-1, 10, 126, 126]               0\n",
      "         MaxPool2d-4           [-1, 10, 63, 63]               0\n",
      "            Conv2d-5           [-1, 24, 61, 61]           2,184\n",
      "       BatchNorm2d-6           [-1, 24, 61, 61]              48\n",
      "              ReLU-7           [-1, 24, 61, 61]               0\n",
      "            Conv2d-8           [-1, 24, 59, 59]           5,208\n",
      "       BatchNorm2d-9           [-1, 24, 59, 59]              48\n",
      "             ReLU-10           [-1, 24, 59, 59]               0\n",
      "        MaxPool2d-11           [-1, 24, 29, 29]               0\n",
      "          Dropout-12           [-1, 24, 29, 29]               0\n",
      "           Conv2d-13           [-1, 24, 27, 27]           5,208\n",
      "      BatchNorm2d-14           [-1, 24, 27, 27]              48\n",
      "             ReLU-15           [-1, 24, 27, 27]               0\n",
      "           Conv2d-16           [-1, 24, 25, 25]           5,208\n",
      "      BatchNorm2d-17           [-1, 24, 25, 25]              48\n",
      "             ReLU-18           [-1, 24, 25, 25]               0\n",
      "        MaxPool2d-19           [-1, 24, 12, 12]               0\n",
      "          Dropout-20           [-1, 24, 12, 12]               0\n",
      "          Flatten-21                 [-1, 3456]               0\n",
      "           Linear-22                 [-1, 1024]       3,539,968\n",
      "             ReLU-23                 [-1, 1024]               0\n",
      "          Dropout-24                 [-1, 1024]               0\n",
      "           Linear-25                  [-1, 512]         524,800\n",
      "             ReLU-26                  [-1, 512]               0\n",
      "          Dropout-27                  [-1, 512]               0\n",
      "           Linear-28                    [-1, 4]           2,052\n",
      "          Dropout-29                    [-1, 4]               0\n",
      "================================================================\n",
      "Total params: 4,084,920\n",
      "Trainable params: 4,084,920\n",
      "Non-trainable params: 0\n",
      "----------------------------------------------------------------\n",
      "Input size (MB): 1.00\n",
      "Forward/backward pass size (MB): 7.97\n",
      "Params size (MB): 15.58\n",
      "Estimated Total Size (MB): 24.56\n",
      "----------------------------------------------------------------\n"
     ]
    }
   ],
   "source": [
    "model = FastNN(128)\n",
    "model.to('cuda')\n",
    "\n",
    "summary(model, (1,512,512))"
   ]
  }
 ],
 "metadata": {
  "kernelspec": {
   "display_name": "Python 3.9.12 64-bit",
   "language": "python",
   "name": "python3"
  },
  "language_info": {
   "codemirror_mode": {
    "name": "ipython",
    "version": 3
   },
   "file_extension": ".py",
   "mimetype": "text/x-python",
   "name": "python",
   "nbconvert_exporter": "python",
   "pygments_lexer": "ipython3",
   "version": "3.9.12"
  },
  "orig_nbformat": 4,
  "vscode": {
   "interpreter": {
    "hash": "72f235a78b5cf937fd09c1593b6a0e4473f824a03930b62c2c7d9a177b9de8f3"
   }
  }
 },
 "nbformat": 4,
 "nbformat_minor": 2
}
